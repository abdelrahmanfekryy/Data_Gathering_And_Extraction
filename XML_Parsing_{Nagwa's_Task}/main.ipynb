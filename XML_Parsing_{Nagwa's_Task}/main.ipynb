{
 "cells": [
  {
   "cell_type": "markdown",
   "source": [
    "# Nagwa Data Repositories Test"
   ],
   "metadata": {}
  },
  {
   "cell_type": "markdown",
   "source": [
    "import the required libraries"
   ],
   "metadata": {}
  },
  {
   "cell_type": "code",
   "execution_count": 1,
   "source": [
    "import pandas as pd \r\n",
    "import xml.etree.ElementTree as ET\r\n",
    "from A_solution import Explainers_func\r\n",
    "from B_solution import Transcripts_func\r\n",
    "from C_solution import S_tag"
   ],
   "outputs": [],
   "metadata": {}
  },
  {
   "cell_type": "markdown",
   "source": [
    "A function that uses Depth First Search Preorder algorithm to traverse tree and extract level and path of nodes"
   ],
   "metadata": {}
  },
  {
   "cell_type": "code",
   "execution_count": 2,
   "source": [
    "def PreOredrTraversal(root,level=1,path='.',data=None):\r\n",
    "    if data is None:\r\n",
    "        data = []\r\n",
    "    for element in list(root):\r\n",
    "        data.append([element.tag,level,path + f'/{element.tag}'])\r\n",
    "        PreOredrTraversal(element,level+1,data = data,path = path + f'/{element.tag}')\r\n",
    "    return pd.DataFrame(data,columns=['tag','level','path'])"
   ],
   "outputs": [],
   "metadata": {}
  },
  {
   "cell_type": "markdown",
   "source": [
    "## (A) You have a folder of Explainers. Using python, please parse the XML files and get the following data:\r\n",
    "\r\n",
    "1. explainer id/name\r\n",
    "2. seo_meta_description\r\n",
    "3. source id\r\n",
    "4. developer name\r\n",
    "\r\n",
    "Please write the result of all explainers in a single excel/csv file.\r\n"
   ],
   "metadata": {}
  },
  {
   "cell_type": "markdown",
   "source": [
    "## Solution:\r\n",
    "first we invetigate a random sample"
   ],
   "metadata": {}
  },
  {
   "cell_type": "code",
   "execution_count": 3,
   "source": [
    "tree = ET.parse(f'Explainers/969140360237.explainer.xml')\r\n",
    "root = tree.getroot()\r\n",
    "tree_table = PreOredrTraversal(root)\r\n",
    "tree_table[tree_table['level'] == 1]"
   ],
   "outputs": [
    {
     "output_type": "execute_result",
     "data": {
      "text/html": [
       "<div>\n",
       "<style scoped>\n",
       "    .dataframe tbody tr th:only-of-type {\n",
       "        vertical-align: middle;\n",
       "    }\n",
       "\n",
       "    .dataframe tbody tr th {\n",
       "        vertical-align: top;\n",
       "    }\n",
       "\n",
       "    .dataframe thead th {\n",
       "        text-align: right;\n",
       "    }\n",
       "</style>\n",
       "<table border=\"1\" class=\"dataframe\">\n",
       "  <thead>\n",
       "    <tr style=\"text-align: right;\">\n",
       "      <th></th>\n",
       "      <th>tag</th>\n",
       "      <th>level</th>\n",
       "      <th>path</th>\n",
       "    </tr>\n",
       "  </thead>\n",
       "  <tbody>\n",
       "    <tr>\n",
       "      <th>0</th>\n",
       "      <td>title</td>\n",
       "      <td>1</td>\n",
       "      <td>./title</td>\n",
       "    </tr>\n",
       "    <tr>\n",
       "      <th>1</th>\n",
       "      <td>seo_meta_description</td>\n",
       "      <td>1</td>\n",
       "      <td>./seo_meta_description</td>\n",
       "    </tr>\n",
       "    <tr>\n",
       "      <th>2</th>\n",
       "      <td>source_id</td>\n",
       "      <td>1</td>\n",
       "      <td>./source_id</td>\n",
       "    </tr>\n",
       "    <tr>\n",
       "      <th>3</th>\n",
       "      <td>developer_name</td>\n",
       "      <td>1</td>\n",
       "      <td>./developer_name</td>\n",
       "    </tr>\n",
       "    <tr>\n",
       "      <th>4</th>\n",
       "      <td>developer_email</td>\n",
       "      <td>1</td>\n",
       "      <td>./developer_email</td>\n",
       "    </tr>\n",
       "    <tr>\n",
       "      <th>5</th>\n",
       "      <td>dictionary</td>\n",
       "      <td>1</td>\n",
       "      <td>./dictionary</td>\n",
       "    </tr>\n",
       "    <tr>\n",
       "      <th>63</th>\n",
       "      <td>body</td>\n",
       "      <td>1</td>\n",
       "      <td>./body</td>\n",
       "    </tr>\n",
       "  </tbody>\n",
       "</table>\n",
       "</div>"
      ],
      "text/plain": [
       "                     tag  level                    path\n",
       "0                  title      1                 ./title\n",
       "1   seo_meta_description      1  ./seo_meta_description\n",
       "2              source_id      1             ./source_id\n",
       "3         developer_name      1        ./developer_name\n",
       "4        developer_email      1       ./developer_email\n",
       "5             dictionary      1            ./dictionary\n",
       "63                  body      1                  ./body"
      ]
     },
     "metadata": {},
     "execution_count": 3
    }
   ],
   "metadata": {}
  },
  {
   "cell_type": "markdown",
   "source": [
    "seem like all the data we need are in the first level"
   ],
   "metadata": {}
  },
  {
   "cell_type": "markdown",
   "source": [
    "run solution function here or you can simply run A_solution.py file"
   ],
   "metadata": {}
  },
  {
   "cell_type": "code",
   "execution_count": 4,
   "source": [
    "src_dir = 'Explainers'\r\n",
    "Explainers_func(src_dir)\r\n"
   ],
   "outputs": [
    {
     "output_type": "execute_result",
     "data": {
      "text/plain": [
       "file_name                                       \n",
       "969140360237.explainer.xml  explainer_id                                                 969140360237\n",
       "                            seo_meta_description    In this explainer, we will learn how to solve ...\n",
       "                            source_id                                                            None\n",
       "                            developer_name                                               Rhodri Jones\n",
       "972198025105.explainer.xml  explainer_id                                                 972198025105\n",
       "                            seo_meta_description    In this explainer, we will learn how to identi...\n",
       "                            source_id                                                            None\n",
       "                            developer_name                                               Simeon Every\n",
       "973130769145.explainer.xml  explainer_id                                                 973130769145\n",
       "                            seo_meta_description                                                 None\n",
       "                            source_id                                                    816154794708\n",
       "                            developer_name                                                 Graham Ely\n",
       "973145156531.explainer.xml  explainer_id                                                 973145156531\n",
       "                            seo_meta_description                                                 None\n",
       "                            source_id                                                    230191639106\n",
       "                            developer_name                                                Sarah Garry\n",
       "974125905106.explainer.xml  explainer_id                                                 974125905106\n",
       "                            seo_meta_description    In this explainer, we will learn how to find g...\n",
       "                            source_id                                                    872143063508\n",
       "                            developer_name                                                 Seungly Oh\n",
       "979165921053.explainer.xml  explainer_id                                                 979165921053\n",
       "                            seo_meta_description    In this explainer, we will learn how to constr...\n",
       "                            source_id                                                    187172546121\n",
       "                            developer_name                                         Harry Shuttleworth\n",
       "980162532502.explainer.xml  explainer_id                                                 980162532502\n",
       "                            seo_meta_description    In this explainer, we will learn how to define...\n",
       "                            source_id                                                    706193561646\n",
       "                            developer_name                                             Fallon Simpson\n",
       "985161036067.explainer.xml  explainer_id                                                 985161036067\n",
       "                            seo_meta_description    In this explainer, we will learn how to find t...\n",
       "                            source_id                                                    853160946083\n",
       "                            developer_name                                               Anita Piatek\n",
       "985195836913.explainer.xml  explainer_id                                                 985195836913\n",
       "                            seo_meta_description    In this explainer, we will learn how to work o...\n",
       "                            source_id                                                    853160946083\n",
       "                            developer_name                                                       None\n",
       "989130863985.explainer.xml  explainer_id                                                 989130863985\n",
       "                            seo_meta_description    In this explainer, we will learn how to calcul...\n",
       "                            source_id                                                    585152746587\n",
       "                            developer_name                                                       None\n",
       "dtype: object"
      ]
     },
     "metadata": {},
     "execution_count": 4
    }
   ],
   "metadata": {}
  },
  {
   "cell_type": "markdown",
   "source": [
    "unstacked table"
   ],
   "metadata": {}
  },
  {
   "cell_type": "code",
   "execution_count": 5,
   "source": [
    "Explainers_func(src_dir,stacked=False,save=False)"
   ],
   "outputs": [
    {
     "output_type": "execute_result",
     "data": {
      "text/html": [
       "<div>\n",
       "<style scoped>\n",
       "    .dataframe tbody tr th:only-of-type {\n",
       "        vertical-align: middle;\n",
       "    }\n",
       "\n",
       "    .dataframe tbody tr th {\n",
       "        vertical-align: top;\n",
       "    }\n",
       "\n",
       "    .dataframe thead th {\n",
       "        text-align: right;\n",
       "    }\n",
       "</style>\n",
       "<table border=\"1\" class=\"dataframe\">\n",
       "  <thead>\n",
       "    <tr style=\"text-align: right;\">\n",
       "      <th></th>\n",
       "      <th>file_name</th>\n",
       "      <th>explainer_id</th>\n",
       "      <th>seo_meta_description</th>\n",
       "      <th>source_id</th>\n",
       "      <th>developer_name</th>\n",
       "    </tr>\n",
       "  </thead>\n",
       "  <tbody>\n",
       "    <tr>\n",
       "      <th>0</th>\n",
       "      <td>969140360237.explainer.xml</td>\n",
       "      <td>969140360237</td>\n",
       "      <td>In this explainer, we will learn how to solve ...</td>\n",
       "      <td>None</td>\n",
       "      <td>Rhodri Jones</td>\n",
       "    </tr>\n",
       "    <tr>\n",
       "      <th>1</th>\n",
       "      <td>972198025105.explainer.xml</td>\n",
       "      <td>972198025105</td>\n",
       "      <td>In this explainer, we will learn how to identi...</td>\n",
       "      <td>None</td>\n",
       "      <td>Simeon Every</td>\n",
       "    </tr>\n",
       "    <tr>\n",
       "      <th>2</th>\n",
       "      <td>973130769145.explainer.xml</td>\n",
       "      <td>973130769145</td>\n",
       "      <td>None</td>\n",
       "      <td>816154794708</td>\n",
       "      <td>Graham Ely</td>\n",
       "    </tr>\n",
       "    <tr>\n",
       "      <th>3</th>\n",
       "      <td>973145156531.explainer.xml</td>\n",
       "      <td>973145156531</td>\n",
       "      <td>None</td>\n",
       "      <td>230191639106</td>\n",
       "      <td>Sarah Garry</td>\n",
       "    </tr>\n",
       "    <tr>\n",
       "      <th>4</th>\n",
       "      <td>974125905106.explainer.xml</td>\n",
       "      <td>974125905106</td>\n",
       "      <td>In this explainer, we will learn how to find g...</td>\n",
       "      <td>872143063508</td>\n",
       "      <td>Seungly Oh</td>\n",
       "    </tr>\n",
       "    <tr>\n",
       "      <th>5</th>\n",
       "      <td>979165921053.explainer.xml</td>\n",
       "      <td>979165921053</td>\n",
       "      <td>In this explainer, we will learn how to constr...</td>\n",
       "      <td>187172546121</td>\n",
       "      <td>Harry Shuttleworth</td>\n",
       "    </tr>\n",
       "    <tr>\n",
       "      <th>6</th>\n",
       "      <td>980162532502.explainer.xml</td>\n",
       "      <td>980162532502</td>\n",
       "      <td>In this explainer, we will learn how to define...</td>\n",
       "      <td>706193561646</td>\n",
       "      <td>Fallon Simpson</td>\n",
       "    </tr>\n",
       "    <tr>\n",
       "      <th>7</th>\n",
       "      <td>985161036067.explainer.xml</td>\n",
       "      <td>985161036067</td>\n",
       "      <td>In this explainer, we will learn how to find t...</td>\n",
       "      <td>853160946083</td>\n",
       "      <td>Anita Piatek</td>\n",
       "    </tr>\n",
       "    <tr>\n",
       "      <th>8</th>\n",
       "      <td>985195836913.explainer.xml</td>\n",
       "      <td>985195836913</td>\n",
       "      <td>In this explainer, we will learn how to work o...</td>\n",
       "      <td>853160946083</td>\n",
       "      <td>None</td>\n",
       "    </tr>\n",
       "    <tr>\n",
       "      <th>9</th>\n",
       "      <td>989130863985.explainer.xml</td>\n",
       "      <td>989130863985</td>\n",
       "      <td>In this explainer, we will learn how to calcul...</td>\n",
       "      <td>585152746587</td>\n",
       "      <td>None</td>\n",
       "    </tr>\n",
       "  </tbody>\n",
       "</table>\n",
       "</div>"
      ],
      "text/plain": [
       "                    file_name  explainer_id  \\\n",
       "0  969140360237.explainer.xml  969140360237   \n",
       "1  972198025105.explainer.xml  972198025105   \n",
       "2  973130769145.explainer.xml  973130769145   \n",
       "3  973145156531.explainer.xml  973145156531   \n",
       "4  974125905106.explainer.xml  974125905106   \n",
       "5  979165921053.explainer.xml  979165921053   \n",
       "6  980162532502.explainer.xml  980162532502   \n",
       "7  985161036067.explainer.xml  985161036067   \n",
       "8  985195836913.explainer.xml  985195836913   \n",
       "9  989130863985.explainer.xml  989130863985   \n",
       "\n",
       "                                seo_meta_description     source_id  \\\n",
       "0  In this explainer, we will learn how to solve ...          None   \n",
       "1  In this explainer, we will learn how to identi...          None   \n",
       "2                                               None  816154794708   \n",
       "3                                               None  230191639106   \n",
       "4  In this explainer, we will learn how to find g...  872143063508   \n",
       "5  In this explainer, we will learn how to constr...  187172546121   \n",
       "6  In this explainer, we will learn how to define...  706193561646   \n",
       "7  In this explainer, we will learn how to find t...  853160946083   \n",
       "8  In this explainer, we will learn how to work o...  853160946083   \n",
       "9  In this explainer, we will learn how to calcul...  585152746587   \n",
       "\n",
       "       developer_name  \n",
       "0        Rhodri Jones  \n",
       "1        Simeon Every  \n",
       "2          Graham Ely  \n",
       "3         Sarah Garry  \n",
       "4          Seungly Oh  \n",
       "5  Harry Shuttleworth  \n",
       "6      Fallon Simpson  \n",
       "7        Anita Piatek  \n",
       "8                None  \n",
       "9                None  "
      ]
     },
     "metadata": {},
     "execution_count": 5
    }
   ],
   "metadata": {}
  },
  {
   "cell_type": "markdown",
   "source": [
    "## (B) You have folder of video transcripts. Using python, please parse the XML files and extract the following data from the element `<question>`:\r\n",
    "\r\n",
    "1. question id\r\n",
    "2. media identifier\r\n",
    "3. question title\r\n",
    "4. question start-time\r\n",
    "5. question end-time\r\n",
    "\r\n",
    "Please write the data of each transcript in a separate excel/csv file and rename the excel/csv with the transcript file name.\r\n"
   ],
   "metadata": {}
  },
  {
   "cell_type": "markdown",
   "source": [
    "## Solution:\r\n",
    "first we invetigate a random sample"
   ],
   "metadata": {}
  },
  {
   "cell_type": "code",
   "execution_count": 6,
   "source": [
    "tree = ET.parse(f'Video Transcripts/104104320696.xml')\r\n",
    "root = tree.getroot()\r\n",
    "tree_table = PreOredrTraversal(root)\r\n",
    "tree_table[tree_table['tag'] == 'question']"
   ],
   "outputs": [
    {
     "output_type": "execute_result",
     "data": {
      "text/html": [
       "<div>\n",
       "<style scoped>\n",
       "    .dataframe tbody tr th:only-of-type {\n",
       "        vertical-align: middle;\n",
       "    }\n",
       "\n",
       "    .dataframe tbody tr th {\n",
       "        vertical-align: top;\n",
       "    }\n",
       "\n",
       "    .dataframe thead th {\n",
       "        text-align: right;\n",
       "    }\n",
       "</style>\n",
       "<table border=\"1\" class=\"dataframe\">\n",
       "  <thead>\n",
       "    <tr style=\"text-align: right;\">\n",
       "      <th></th>\n",
       "      <th>tag</th>\n",
       "      <th>level</th>\n",
       "      <th>path</th>\n",
       "    </tr>\n",
       "  </thead>\n",
       "  <tbody>\n",
       "    <tr>\n",
       "      <th>96</th>\n",
       "      <td>question</td>\n",
       "      <td>2</td>\n",
       "      <td>./transcript/question</td>\n",
       "    </tr>\n",
       "    <tr>\n",
       "      <th>130</th>\n",
       "      <td>question</td>\n",
       "      <td>2</td>\n",
       "      <td>./transcript/question</td>\n",
       "    </tr>\n",
       "  </tbody>\n",
       "</table>\n",
       "</div>"
      ],
      "text/plain": [
       "          tag  level                   path\n",
       "96   question      2  ./transcript/question\n",
       "130  question      2  ./transcript/question"
      ]
     },
     "metadata": {},
     "execution_count": 6
    }
   ],
   "metadata": {}
  },
  {
   "cell_type": "markdown",
   "source": [
    "* seems like there are two quesions in this transcript\r\n",
    "* all the quesion elements are in the 2nd level with parent 'transcript'"
   ],
   "metadata": {}
  },
  {
   "cell_type": "markdown",
   "source": [
    "run solution function here or you can simply run B_solution.py file"
   ],
   "metadata": {}
  },
  {
   "cell_type": "code",
   "execution_count": 7,
   "source": [
    "src_dir = 'Video Transcripts'\r\n",
    "Transcripts_func(src_dir)"
   ],
   "outputs": [],
   "metadata": {}
  },
  {
   "cell_type": "markdown",
   "source": [
    "## (C) using the same XMLs in Explainers folder, using python:\r\n",
    "\r\n",
    "1. Copy the XML files to a new path titled “Updated”\r\n",
    "2. Search for all `<p>` and `<td>` tags and put the text in them in `<s>` tags. So the structure will change from `<p>text</p>` to be `<p><s>text</s></p>`"
   ],
   "metadata": {}
  },
  {
   "cell_type": "markdown",
   "source": [
    "## Solution:\r\n",
    "run solution function here or you can simply run C_solution.py file"
   ],
   "metadata": {}
  },
  {
   "cell_type": "code",
   "execution_count": 8,
   "source": [
    "src_dir = 'Explainers'\r\n",
    "dest_dir = 'Updated'\r\n",
    "S_tag(src_dir,dest_dir)"
   ],
   "outputs": [],
   "metadata": {}
  }
 ],
 "metadata": {
  "orig_nbformat": 4,
  "language_info": {
   "name": "python",
   "version": "3.8.10",
   "mimetype": "text/x-python",
   "codemirror_mode": {
    "name": "ipython",
    "version": 3
   },
   "pygments_lexer": "ipython3",
   "nbconvert_exporter": "python",
   "file_extension": ".py"
  },
  "kernelspec": {
   "name": "python3",
   "display_name": "Python 3.8.10 64-bit"
  },
  "interpreter": {
   "hash": "8a6378035587bb97055001603ea9d85a2aa377cc6252a50ffca4355a71bc8b90"
  }
 },
 "nbformat": 4,
 "nbformat_minor": 2
}